{
 "cells": [
  {
   "cell_type": "code",
   "execution_count": 1,
   "id": "4f9780aa",
   "metadata": {},
   "outputs": [],
   "source": [
    "import numpy as np\n",
    "from PIL import Image\n",
    "from matplotlib.image import imread"
   ]
  },
  {
   "cell_type": "code",
   "execution_count": 2,
   "id": "e0952bde",
   "metadata": {},
   "outputs": [],
   "source": [
    "# defining the projection matrices\n",
    "pm0 = np.array([[776.649963, -298.408539, -32.048386, 993.1581875], \n",
    "                [132.852554, 120.885834, -759.210876, 1982.174000], \n",
    "                [0.744869, 0.662592, -0.078377, 4.629312012]])\n",
    "pm1 = np.array([[431.503540, 586.251892, -137.094040, 1982.053375], \n",
    "                [23.799522, 1.964373, -657.832764, 1725.253500], \n",
    "                [-0.321776, 0.869462, -0.374826, 5.538025391]])\n",
    "pm2 = np.array([[-153.607925, 722.067139, -127.204468, 2182.4950], \n",
    "                [141.564346, 74.195686, -637.070984, 1551.185125], \n",
    "                [-0.769772, 0.354474, -0.530847, 4.737782227]])\n",
    "pm3 = np.array([[-823.909119, 55.557896, -82.577644, 2498.20825], \n",
    "                [-31.429972, 42.725830, -777.534546, 2083.363250], \n",
    "                [-0.484634, -0.807611, -0.335998, 4.934550781]])\n",
    "pm4 = np.array([[-715.434998, -351.073730, -147.460815, 1978.534875], \n",
    "                [29.429260, -2.156084, -779.121704, 2028.892750], \n",
    "                [0.030776, -0.941587, -0.335361, 4.141203125]])\n",
    "pm5 = np.array([[-417.221649, -700.318726, -27.361042, 1599.565000], \n",
    "                [111.925537, -169.101776, -752.020142, 1982.983750], \n",
    "                [0.542421, -0.837170, -0.070180, 3.929336426]])\n",
    "pm6 = np.array([[94.934860, -668.213623, -331.895508, 769.8633125], \n",
    "                [-549.403137, -58.174614, -342.555359, 1286.971000], \n",
    "                [0.196630, -0.136065, -0.970991, 3.574729736]])\n",
    "pm7 = np.array([[452.159027, -658.943909, -279.703522, 883.495000], \n",
    "                [-262.442566, 1.231108, -751.532349, 1884.149625], \n",
    "                [0.776201, 0.215114, -0.592653, 4.235517090]])"
   ]
  },
  {
   "cell_type": "code",
   "execution_count": 3,
   "id": "19c9f732",
   "metadata": {},
   "outputs": [],
   "source": [
    "# Reading the camera images\n",
    "s0 = imread('silhouette0.pbm')\n",
    "s1 = imread('silhouette1.pbm')\n",
    "s2 = imread('silhouette2.pbm')\n",
    "s3 = imread('silhouette3.pbm')\n",
    "s4 = imread('silhouette4.pbm')\n",
    "s5 = imread('silhouette5.pbm')\n",
    "s6 = imread('silhouette6.pbm')\n",
    "s7 = imread('silhouette07.pbm')"
   ]
  },
  {
   "cell_type": "code",
   "execution_count": 4,
   "id": "96d32941",
   "metadata": {},
   "outputs": [],
   "source": [
    "# Initializing all the matrices to zeros\n",
    "projection_matrix = np.zeros((3, 4, 8))\n",
    "sil_matrix = np.zeros((582, 780, 8))\n",
    "im = np.zeros((582, 780, 3, 8))"
   ]
  },
  {
   "cell_type": "code",
   "execution_count": 5,
   "id": "35d69fe7",
   "metadata": {},
   "outputs": [],
   "source": [
    "# Defining the projection matrices\n",
    "projection_matrix[:,:,0] = pm0\n",
    "projection_matrix[:,:,1] = pm1\n",
    "projection_matrix[:,:,2] = pm2\n",
    "projection_matrix[:,:,3] = pm3\n",
    "projection_matrix[:,:,4] = pm4\n",
    "projection_matrix[:,:,5] = pm5\n",
    "projection_matrix[:,:,6] = pm6\n",
    "projection_matrix[:,:,7] = pm7"
   ]
  },
  {
   "cell_type": "code",
   "execution_count": 6,
   "id": "c5444e9f",
   "metadata": {},
   "outputs": [],
   "source": [
    "# this step is necessary to convert silhouette image to gray scale so that there is no discrepency in the other\n",
    "# steps. If we do it directly the array dimensions do not match\n",
    "s0_gray = 0.2125 * s0[:,:,0] + 0.7154 * s0[:,:,1] + 0.0721 * s0[:,:,2]\n",
    "s1_gray = 0.2125 * s1[:,:,0] + 0.7154 * s1[:,:,1] + 0.0721 * s1[:,:,2]\n",
    "s2_gray = 0.2125 * s2[:,:,0] + 0.7154 * s2[:,:,1] + 0.0721 * s2[:,:,2]\n",
    "s3_gray = 0.2125 * s3[:,:,0] + 0.7154 * s3[:,:,1] + 0.0721 * s3[:,:,2]\n",
    "s4_gray = 0.2125 * s4[:,:,0] + 0.7154 * s4[:,:,1] + 0.0721 * s4[:,:,2]\n",
    "s5_gray = 0.2125 * s5[:,:,0] + 0.7154 * s5[:,:,1] + 0.0721 * s5[:,:,2]\n",
    "s6_gray = 0.2125 * s6[:,:,0] + 0.7154 * s6[:,:,1] + 0.0721 * s6[:,:,2]\n",
    "s7_gray = 0.2125 * s7[:,:,0] + 0.7154 * s7[:,:,1] + 0.0721 * s7[:,:,2]\n",
    "\n",
    "#Defining the silhouettes matrices\n",
    "sil_matrix[:,:,0] = s0_gray\n",
    "sil_matrix[:,:,1] = s1_gray\n",
    "sil_matrix[:,:,2] = s2_gray\n",
    "sil_matrix[:,:,3] = s3_gray\n",
    "sil_matrix[:,:,4] = s4_gray\n",
    "sil_matrix[:,:,5] = s5_gray\n",
    "sil_matrix[:,:,6] = s6_gray\n",
    "sil_matrix[:,:,7] = s7_gray"
   ]
  },
  {
   "cell_type": "code",
   "execution_count": 7,
   "id": "2cbc4acc",
   "metadata": {},
   "outputs": [],
   "source": [
    "# Defining the camera matrices\n",
    "i0 = imread('cam0.png')\n",
    "i1 = imread('cam1.png')\n",
    "i2 = imread('cam2.png')\n",
    "i3 = imread('cam3.png')\n",
    "i4 = imread('cam4.png')\n",
    "i5 = imread('cam5.png')\n",
    "i6 = imread('cam6.png')\n",
    "i7 = imread('cam7.png')\n"
   ]
  },
  {
   "cell_type": "code",
   "execution_count": 8,
   "id": "3ba68294",
   "metadata": {},
   "outputs": [],
   "source": [
    "im[:,:,:,0] = i0\n",
    "im[:,:,:,1] = i1\n",
    "im[:,:,:,2] = i2\n",
    "im[:,:,:,3] = i3\n",
    "im[:,:,:,4] = i4\n",
    "im[:,:,:,5] = i5\n",
    "im[:,:,:,6] = i6\n",
    "im[:,:,:,7] = i7"
   ]
  },
  {
   "cell_type": "code",
   "execution_count": 9,
   "id": "ce34e2c8",
   "metadata": {},
   "outputs": [],
   "source": [
    "x_grid = 5\n",
    "y_grid = 6\n",
    "z_grid = 2.5"
   ]
  },
  {
   "cell_type": "code",
   "execution_count": 10,
   "id": "61653745",
   "metadata": {},
   "outputs": [],
   "source": [
    "volume = x_grid * y_grid * z_grid\n",
    "no_of_voxels = 10000000\n",
    "vox_s = round(volume**(1/3)/no_of_voxels**(1/3),3)"
   ]
  },
  {
   "cell_type": "code",
   "execution_count": 11,
   "id": "12c8454b",
   "metadata": {},
   "outputs": [],
   "source": [
    "true_voxs = 0\n",
    "total_voxs = 0\n",
    "vox_matrix = []\n",
    "surface_vox_matrix = []\n",
    "color_matrix = []\n",
    "fl = 0\n",
    "prev_vec = []"
   ]
  },
  {
   "cell_type": "code",
   "execution_count": 12,
   "id": "0995e823",
   "metadata": {},
   "outputs": [],
   "source": [
    "for x in np.arange(-x_grid/2, x_grid/2, vox_s):\n",
    "    for y in np.arange(-y_grid/2, y_grid/2, vox_s):\n",
    "        for z in np.arange(0, z_grid, vox_s):\n",
    "            # Initialize decision vector\n",
    "            dec_v = np.zeros(8)\n",
    "            # Increment total voxels counter\n",
    "            total_voxs += 1\n",
    "            # Create world coordinate vector\n",
    "            w_col = np.array([x, y, z, 1.0]).T\n",
    "            # Loop over projection matrices\n",
    "            for i in range(8):\n",
    "                # Project world coordinate vector onto image plane\n",
    "                uv_cor = np.round(np.dot(projection_matrix[:,:,i], w_col) / np.dot(projection_matrix[:,:,i], w_col)[2])\n",
    "                # Check if projected coordinates are within image bounds\n",
    "                #if (1<=uv_cor[0]<=780) and (1<=uv_cor[1]<=582):\n",
    "                if (0<=uv_cor[0]<=sil_matrix.shape[1]-1) and (0<=uv_cor[1]<=sil_matrix.shape[0]-1):\n",
    "                    # Update decision vector with corresponding silhouette pixel value\n",
    "                    dec_v[i] = sil_matrix[int(uv_cor[1]), int(uv_cor[0]), i]\n",
    "                    # Check if all decision vector values are non-zero\n",
    "                    if np.all(dec_v):\n",
    "                        # Increment true voxels counter\n",
    "                        true_voxs += 1\n",
    "                        # Update voxel matrix with world coordinates\n",
    "                        vox_matrix.append([x, y, z])\n",
    "                        # Update color matrix with corresponding color value from image\n",
    "                        r = im[int(uv_cor[1]), int(uv_cor[0]), 0, 7]\n",
    "                        g = im[int(uv_cor[1]), int(uv_cor[0]), 1, 7]\n",
    "                        b = im[int(uv_cor[1]), int(uv_cor[0]), 2, 7]\n",
    "                        color_matrix.append([r, g, b])\n",
    "                        # Check if voxel is part of surface\n",
    "                        if fl == 0:\n",
    "                            # Increment surface voxel counter\n",
    "                            surface_vox_matrix.append([x, y, z])\n",
    "                            fl += 1\n",
    "                            prev_vec = [x, y, z]\n",
    "                            continue\n",
    "                            # Add surface voxels to matrix\n",
    "                            if (prev_vec[0]==x) and (prev_vec[1]==y):\n",
    "                                fl += 1\n",
    "                            else:\n",
    "                                if fl > 1:\n",
    "                                    surface_vox_matrix.append(prev_vec)\n",
    "                                    surface_vox_matrix.append([x, y, z])\n",
    "                                    f1 = 1\n",
    "                                else:\n",
    "                                    # Reset surface voxel counter\n",
    "                                    surface_vox_matrix.append([x, y, z])\n",
    "                                    f1 = 1\n",
    "                            fl = 1\n",
    "                            # Update previous vector\n",
    "                            prev_vec = [x, y, z]"
   ]
  },
  {
   "cell_type": "code",
   "execution_count": 1,
   "id": "8ffed0ef",
   "metadata": {},
   "outputs": [],
   "source": [
    "# % Computed the surface voxels\n",
    "# if(size(surface_vox_matrix, 1) > 1):\n",
    "#     x_s = surface_vox_matrix(:,1);\n",
    "#     y_s = surface_vox_matrix(:,2);\n",
    "#     z_s = surface_vox_matrix(:,3);\n",
    "#     surface_vox_matrix = [x_s, y_s, z_s];\n",
    "# end\n",
    "\n",
    "# % Plot surface voxels\n",
    "# figure;\n",
    "# scatter3(surface_vox_matrix(:,1), surface_vox_matrix(:,2), surface_vox_matrix(:,3), 10, color_matrix, 'filled');\n",
    "# title('Surface Voxels');\n",
    "# xlabel('X');\n",
    "# ylabel('Y');\n",
    "# zlabel('Z');\n",
    "# axis equal;\n"
   ]
  },
  {
   "cell_type": "code",
   "execution_count": 14,
   "id": "25dab29d",
   "metadata": {},
   "outputs": [],
   "source": [
    "import open3d as o3d"
   ]
  },
  {
   "cell_type": "code",
   "execution_count": 15,
   "id": "775fa9ee",
   "metadata": {},
   "outputs": [],
   "source": [
    "# Convert color matrix to numpy array\n",
    "\n",
    "color_matrix = np.array(color_matrix)\n",
    "\n",
    "vox_mat_ptc = o3d.geometry.PointCloud()\n",
    "vox_mat_ptc.points = o3d.utility.Vector3dVector(vox_matrix)\n",
    "vox_mat_ptc.colors = o3d.utility.Vector3dVector(color_matrix.astype(float)/255)"
   ]
  },
  {
   "cell_type": "code",
   "execution_count": 16,
   "id": "40939c3b",
   "metadata": {},
   "outputs": [
    {
     "data": {
      "text/plain": [
       "True"
      ]
     },
     "execution_count": 16,
     "metadata": {},
     "output_type": "execute_result"
    }
   ],
   "source": [
    "# Write point cloud to PLY file and display in figure 1\n",
    "\n",
    "o3d.io.write_point_cloud('dancer_full_colored_2.ply', vox_mat_ptc, write_ascii=True)"
   ]
  },
  {
   "cell_type": "code",
   "execution_count": 17,
   "id": "b865fce8",
   "metadata": {},
   "outputs": [
    {
     "name": "stderr",
     "output_type": "stream",
     "text": [
      "sh: meshlab: command not found\n"
     ]
    },
    {
     "data": {
      "text/plain": [
       "32512"
      ]
     },
     "execution_count": 17,
     "metadata": {},
     "output_type": "execute_result"
    }
   ],
   "source": [
    "import os\n",
    "os.system('meshlab dancer_full_colored_2.ply')"
   ]
  },
  {
   "cell_type": "code",
   "execution_count": 18,
   "id": "157c6cc2",
   "metadata": {},
   "outputs": [
    {
     "name": "stdout",
     "output_type": "stream",
     "text": [
      "\u001b[1;33m[Open3D WARNING] GLFW Error: Cocoa: Failed to find service port for display\u001b[0;m\n",
      "\u001b[1;33m[Open3D WARNING] GLFW Error: Cocoa: Failed to find service port for display\u001b[0;m\n"
     ]
    }
   ],
   "source": [
    "# Write point cloud to PLY file and display in figure 1\n",
    "\n",
    "o3d.io.write_point_cloud('dancer_full_colored_2.ply', vox_mat_ptc, write_ascii=True)\n",
    "full_mod = o3d.io.read_point_cloud('dancer_full_colored_2.ply')\n",
    "o3d.visualization.draw_geometries([full_mod])"
   ]
  },
  {
   "cell_type": "code",
   "execution_count": 19,
   "id": "fb05d869",
   "metadata": {},
   "outputs": [],
   "source": [
    "# Create point cloud from surface voxels\n",
    "\n",
    "sur_vox_mat_ptc = o3d.geometry.PointCloud()\n",
    "sur_vox_mat_ptc.points = o3d.utility.Vector3dVector(surface_vox_matrix)\n",
    "sur_vox_mat_ptc.colors = vox_mat_ptc.colors"
   ]
  },
  {
   "cell_type": "code",
   "execution_count": 20,
   "id": "8e6c5873",
   "metadata": {},
   "outputs": [
    {
     "name": "stdout",
     "output_type": "stream",
     "text": [
      "\u001b[1;33m[Open3D WARNING] GLFW Error: Cocoa: Failed to find service port for display\u001b[0;m\n",
      "\u001b[1;33m[Open3D WARNING] GLFW Error: Cocoa: Failed to find service port for display\u001b[0;m\n"
     ]
    }
   ],
   "source": [
    "# Write point cloud to PLY file and display in figure 2\n",
    "\n",
    "o3d.io.write_point_cloud('dancer_surf_2.ply', sur_vox_mat_ptc, write_ascii=True)\n",
    "surf_mod = o3d.io.read_point_cloud('dancer_surf_2.ply')\n",
    "o3d.visualization.draw_geometries([surf_mod])"
   ]
  }
 ],
 "metadata": {
  "kernelspec": {
   "display_name": "Python 3 (ipykernel)",
   "language": "python",
   "name": "python3"
  },
  "language_info": {
   "codemirror_mode": {
    "name": "ipython",
    "version": 3
   },
   "file_extension": ".py",
   "mimetype": "text/x-python",
   "name": "python",
   "nbconvert_exporter": "python",
   "pygments_lexer": "ipython3",
   "version": "3.10.9"
  }
 },
 "nbformat": 4,
 "nbformat_minor": 5
}
